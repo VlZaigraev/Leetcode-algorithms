{
 "cells": [
  {
   "cell_type": "code",
   "execution_count": 2,
   "metadata": {},
   "outputs": [],
   "source": [
    "from typing import List"
   ]
  },
  {
   "cell_type": "markdown",
   "metadata": {},
   "source": [
    "##  <span style=\"color:green\">Easy</span>|"
   ]
  },
  {
   "cell_type": "markdown",
   "metadata": {},
   "source": [
    "### 70. Climbing Stairs"
   ]
  },
  {
   "cell_type": "code",
   "execution_count": 11,
   "metadata": {},
   "outputs": [
    {
     "data": {
      "text/plain": [
       "2"
      ]
     },
     "execution_count": 11,
     "metadata": {},
     "output_type": "execute_result"
    }
   ],
   "source": [
    "def climbStairs(n: int) -> int:\n",
    "    a, b = 1, 2\n",
    "    for i in range(2, n):\n",
    "        a, b = b, a + b\n",
    "\n",
    "    return b if n > 1 else a\n",
    "\n",
    "climbStairs(2)"
   ]
  },
  {
   "cell_type": "markdown",
   "metadata": {},
   "source": [
    "### 746. Min Cost Climbing Stairs"
   ]
  },
  {
   "cell_type": "code",
   "execution_count": 10,
   "metadata": {},
   "outputs": [
    {
     "data": {
      "text/plain": [
       "15"
      ]
     },
     "execution_count": 10,
     "metadata": {},
     "output_type": "execute_result"
    }
   ],
   "source": [
    "def minCostClimbingStairs(cost: List[int]) -> int:\n",
    "    cost.append(0)\n",
    "    for i in range(len(cost) - 3, -1, -1):\n",
    "        cost[i] += min(cost[i + 1], cost[i + 2])\n",
    "    return min(cost[:2])\n",
    "\n",
    "\n",
    "\n",
    "cost = [10,15,20]\n",
    "minCostClimbingStairs(cost)"
   ]
  },
  {
   "cell_type": "markdown",
   "metadata": {},
   "source": [
    "## <span style=\"color:yellow\">Medium</span>"
   ]
  },
  {
   "cell_type": "markdown",
   "metadata": {},
   "source": [
    "### 198. House Robber"
   ]
  },
  {
   "cell_type": "code",
   "execution_count": 10,
   "metadata": {},
   "outputs": [
    {
     "ename": "ValueError",
     "evalue": "max() arg is an empty sequence",
     "output_type": "error",
     "traceback": [
      "\u001b[0;31m---------------------------------------------------------------------------\u001b[0m",
      "\u001b[0;31mValueError\u001b[0m                                Traceback (most recent call last)",
      "\u001b[1;32m/home/vlad/Documents/Leetcode-algorithms/Leetcode-algorithms/DynProg1D.ipynb Cell 9\u001b[0m in \u001b[0;36m<module>\u001b[0;34m\u001b[0m\n\u001b[1;32m      <a href='vscode-notebook-cell:/home/vlad/Documents/Leetcode-algorithms/Leetcode-algorithms/DynProg1D.ipynb#ch0000007?line=7'>8</a>\u001b[0m     \u001b[39mreturn\u001b[39;00m max_profit\n\u001b[1;32m     <a href='vscode-notebook-cell:/home/vlad/Documents/Leetcode-algorithms/Leetcode-algorithms/DynProg1D.ipynb#ch0000007?line=9'>10</a>\u001b[0m nums \u001b[39m=\u001b[39m []\u001b[39m#[2,7,9,3,1]\u001b[39;00m\n\u001b[0;32m---> <a href='vscode-notebook-cell:/home/vlad/Documents/Leetcode-algorithms/Leetcode-algorithms/DynProg1D.ipynb#ch0000007?line=11'>12</a>\u001b[0m rob1(nums)\n",
      "\u001b[1;32m/home/vlad/Documents/Leetcode-algorithms/Leetcode-algorithms/DynProg1D.ipynb Cell 9\u001b[0m in \u001b[0;36mrob1\u001b[0;34m(nums)\u001b[0m\n\u001b[1;32m      <a href='vscode-notebook-cell:/home/vlad/Documents/Leetcode-algorithms/Leetcode-algorithms/DynProg1D.ipynb#ch0000007?line=0'>1</a>\u001b[0m \u001b[39mdef\u001b[39;00m \u001b[39mrob1\u001b[39m(nums: List[\u001b[39mint\u001b[39m]) \u001b[39m-\u001b[39m\u001b[39m>\u001b[39m \u001b[39mint\u001b[39m:\n\u001b[1;32m      <a href='vscode-notebook-cell:/home/vlad/Documents/Leetcode-algorithms/Leetcode-algorithms/DynProg1D.ipynb#ch0000007?line=1'>2</a>\u001b[0m     \u001b[39m#print(f\"before: {nums}\")\u001b[39;00m\n\u001b[0;32m----> <a href='vscode-notebook-cell:/home/vlad/Documents/Leetcode-algorithms/Leetcode-algorithms/DynProg1D.ipynb#ch0000007?line=2'>3</a>\u001b[0m     max_profit \u001b[39m=\u001b[39m \u001b[39mmax\u001b[39;49m(nums[:\u001b[39m2\u001b[39;49m])\n\u001b[1;32m      <a href='vscode-notebook-cell:/home/vlad/Documents/Leetcode-algorithms/Leetcode-algorithms/DynProg1D.ipynb#ch0000007?line=3'>4</a>\u001b[0m     \u001b[39mfor\u001b[39;00m i \u001b[39min\u001b[39;00m \u001b[39mrange\u001b[39m(\u001b[39m2\u001b[39m, \u001b[39mlen\u001b[39m(nums)):\n\u001b[1;32m      <a href='vscode-notebook-cell:/home/vlad/Documents/Leetcode-algorithms/Leetcode-algorithms/DynProg1D.ipynb#ch0000007?line=4'>5</a>\u001b[0m         nums[i] \u001b[39m+\u001b[39m\u001b[39m=\u001b[39m \u001b[39mmax\u001b[39m(nums[:i\u001b[39m-\u001b[39m\u001b[39m1\u001b[39m])\n",
      "\u001b[0;31mValueError\u001b[0m: max() arg is an empty sequence"
     ]
    }
   ],
   "source": [
    "def rob1(nums: List[int]) -> int:\n",
    "    if not nums: return 0\n",
    "    max_profit = max(nums[:2])\n",
    "    for i in range(2, len(nums)):\n",
    "        nums[i] += max(nums[:i-1])\n",
    "        max_profit = max(max_profit, nums[i])\n",
    "    return max_profit\n",
    "\n",
    "nums = []#[2,7,9,3,1]\n",
    "\n",
    "rob1(nums)"
   ]
  },
  {
   "cell_type": "markdown",
   "metadata": {},
   "source": [
    "### 213. House Robber II"
   ]
  },
  {
   "cell_type": "code",
   "execution_count": null,
   "metadata": {},
   "outputs": [],
   "source": [
    "def rob2(nums: List[int]) -> int:\n",
    "    return max(rob1(nums[:-1]), rob1(nums[1:]))\n",
    "\n",
    "    return max"
   ]
  },
  {
   "cell_type": "markdown",
   "metadata": {},
   "source": [
    "## <span style=\"color:red\">Hard</span>"
   ]
  },
  {
   "cell_type": "code",
   "execution_count": null,
   "metadata": {},
   "outputs": [],
   "source": []
  }
 ],
 "metadata": {
  "kernelspec": {
   "display_name": "Python 3.10.5 64-bit",
   "language": "python",
   "name": "python3"
  },
  "language_info": {
   "codemirror_mode": {
    "name": "ipython",
    "version": 3
   },
   "file_extension": ".py",
   "mimetype": "text/x-python",
   "name": "python",
   "nbconvert_exporter": "python",
   "pygments_lexer": "ipython3",
   "version": "3.10.5"
  },
  "orig_nbformat": 4,
  "vscode": {
   "interpreter": {
    "hash": "e7370f93d1d0cde622a1f8e1c04877d8463912d04d973331ad4851f04de6915a"
   }
  }
 },
 "nbformat": 4,
 "nbformat_minor": 2
}
