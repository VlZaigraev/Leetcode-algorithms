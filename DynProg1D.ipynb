{
 "cells": [
  {
   "cell_type": "code",
   "execution_count": 2,
   "metadata": {},
   "outputs": [],
   "source": [
    "from typing import List"
   ]
  },
  {
   "cell_type": "markdown",
   "metadata": {},
   "source": [
    "##  <span style=\"color:green\">Easy</span>|"
   ]
  },
  {
   "cell_type": "markdown",
   "metadata": {},
   "source": [
    "### 70. Climbing Stairs"
   ]
  },
  {
   "cell_type": "code",
   "execution_count": 11,
   "metadata": {},
   "outputs": [
    {
     "data": {
      "text/plain": [
       "2"
      ]
     },
     "execution_count": 11,
     "metadata": {},
     "output_type": "execute_result"
    }
   ],
   "source": [
    "def climbStairs(n: int) -> int:\n",
    "    a, b = 1, 2\n",
    "    for i in range(2, n):\n",
    "        a, b = b, a + b\n",
    "\n",
    "    return b if n > 1 else a\n",
    "\n",
    "climbStairs(2)"
   ]
  },
  {
   "cell_type": "markdown",
   "metadata": {},
   "source": [
    "### 746. Min Cost Climbing Stairs"
   ]
  },
  {
   "cell_type": "code",
   "execution_count": 10,
   "metadata": {},
   "outputs": [
    {
     "data": {
      "text/plain": [
       "15"
      ]
     },
     "execution_count": 10,
     "metadata": {},
     "output_type": "execute_result"
    }
   ],
   "source": [
    "def minCostClimbingStairs(cost: List[int]) -> int:\n",
    "    cost.append(0)\n",
    "    for i in range(len(cost) - 3, -1, -1):\n",
    "        cost[i] += min(cost[i + 1], cost[i + 2])\n",
    "    return min(cost[:2])\n",
    "\n",
    "\n",
    "\n",
    "cost = [10,15,20]\n",
    "minCostClimbingStairs(cost)"
   ]
  },
  {
   "cell_type": "markdown",
   "metadata": {},
   "source": [
    "## <span style=\"color:yellow\">Medium</span>"
   ]
  },
  {
   "cell_type": "markdown",
   "metadata": {},
   "source": [
    "### 198. House Robber"
   ]
  },
  {
   "cell_type": "code",
   "execution_count": 18,
   "metadata": {},
   "outputs": [
    {
     "data": {
      "text/plain": [
       "0"
      ]
     },
     "execution_count": 18,
     "metadata": {},
     "output_type": "execute_result"
    }
   ],
   "source": [
    "def rob1(nums: List[int]) -> int:\n",
    "    if not nums:\n",
    "        return 0\n",
    "    max_profit = max(nums[:2])\n",
    "    for i in range(2, len(nums)):\n",
    "        nums[i] += max(nums[:i-1])\n",
    "        max_profit = max(max_profit, nums[i])\n",
    "    return max_profit\n",
    "\n",
    "nums = []#[2,7,9,3,1]\n",
    "\n",
    "rob1(nums)"
   ]
  },
  {
   "cell_type": "markdown",
   "metadata": {},
   "source": [
    "### 213. House Robber II"
   ]
  },
  {
   "cell_type": "code",
   "execution_count": 19,
   "metadata": {},
   "outputs": [
    {
     "data": {
      "text/plain": [
       "1"
      ]
     },
     "execution_count": 19,
     "metadata": {},
     "output_type": "execute_result"
    }
   ],
   "source": [
    "def rob2(nums: List[int]) -> int:\n",
    "    return max(nums[0], rob1(nums[:-1]), rob1(nums[1:]))\n",
    "\n",
    "nums = [1]\n",
    "rob2(nums)"
   ]
  },
  {
   "cell_type": "markdown",
   "metadata": {},
   "source": [
    "### 5. Longest Palindromic Substring"
   ]
  },
  {
   "cell_type": "code",
   "execution_count": 16,
   "metadata": {},
   "outputs": [
    {
     "name": "stdout",
     "output_type": "stream",
     "text": [
      "0\n",
      "\t 0 0\n",
      "\t---\n",
      "\t 0 1\n",
      "1\n",
      "\t 1 1\n",
      "\t---\n",
      "\t 1 2\n",
      "2\n",
      "\t 2 2\n",
      "\t---\n",
      "\t 2 3\n"
     ]
    },
    {
     "data": {
      "text/plain": [
       "'cc'"
      ]
     },
     "execution_count": 16,
     "metadata": {},
     "output_type": "execute_result"
    }
   ],
   "source": [
    "def longestPalindrome(s: str) -> str:\n",
    "    def shift_pointers(l_start, r_start, longest_palindrome = '', max_len = 0):\n",
    "        l, r = l_start, r_start\n",
    "        print('\\t', l,r)\n",
    "        while (l >= 0 and r < n) and s[l] == s[r]:\n",
    "            if cur_len := r - l + 1 > max_len:\n",
    "                max_len, longest_palindrome = cur_len, s[l: r + 1]\n",
    "            l -= 1\n",
    "            r += 1\n",
    "        return longest_palindrome, max_len\n",
    "\n",
    "    longest_palindrome, max_len = '', 0\n",
    "    n = len(s)\n",
    "\n",
    "    for i in range(n):\n",
    "        print(i)\n",
    "        longest_palindrome, max_len = shift_pointers(i, i, longest_palindrome, max_len)\n",
    "        print('\\t---')\n",
    "        longest_palindrome, max_len = shift_pointers(i, i + 1, longest_palindrome, max_len)\n",
    "    return longest_palindrome\n",
    "\n",
    "s = \"ccc\"\n",
    "longestPalindrome(s)"
   ]
  },
  {
   "cell_type": "markdown",
   "metadata": {},
   "source": [
    "### 647. Palindromic Substrings"
   ]
  },
  {
   "cell_type": "markdown",
   "metadata": {},
   "source": [
    "## <span style=\"color:red\">Hard</span>"
   ]
  },
  {
   "cell_type": "code",
   "execution_count": null,
   "metadata": {},
   "outputs": [],
   "source": []
  }
 ],
 "metadata": {
  "kernelspec": {
   "display_name": "Python 3.10.5 64-bit",
   "language": "python",
   "name": "python3"
  },
  "language_info": {
   "codemirror_mode": {
    "name": "ipython",
    "version": 3
   },
   "file_extension": ".py",
   "mimetype": "text/x-python",
   "name": "python",
   "nbconvert_exporter": "python",
   "pygments_lexer": "ipython3",
   "version": "3.10.5"
  },
  "orig_nbformat": 4,
  "vscode": {
   "interpreter": {
    "hash": "e7370f93d1d0cde622a1f8e1c04877d8463912d04d973331ad4851f04de6915a"
   }
  }
 },
 "nbformat": 4,
 "nbformat_minor": 2
}
