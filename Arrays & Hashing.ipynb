{
 "cells": [
  {
   "cell_type": "code",
   "execution_count": 3,
   "metadata": {},
   "outputs": [],
   "source": [
    "from typing import List\n",
    "from collections import Counter, defaultdict\n"
   ]
  },
  {
   "cell_type": "markdown",
   "metadata": {},
   "source": [
    "##  <span style=\"color:green\">Easy</span>"
   ]
  },
  {
   "cell_type": "markdown",
   "metadata": {},
   "source": [
    "### Contains Duplicate"
   ]
  },
  {
   "cell_type": "code",
   "execution_count": 29,
   "metadata": {},
   "outputs": [
    {
     "data": {
      "text/plain": [
       "False"
      ]
     },
     "execution_count": 29,
     "metadata": {},
     "output_type": "execute_result"
    }
   ],
   "source": [
    "def containsDuplicate(nums: list) -> bool:\n",
    "    hashset = set()\n",
    "    for num in nums:\n",
    "        if num in hashset:\n",
    "            return True\n",
    "        hashset.add(num)\n",
    "    return False\n",
    "\n",
    "nums = [1,2,3,4]\n",
    "containsDuplicate(nums)"
   ]
  },
  {
   "cell_type": "markdown",
   "metadata": {},
   "source": [
    "### Contains Duplicate 2"
   ]
  },
  {
   "cell_type": "code",
   "execution_count": 35,
   "metadata": {},
   "outputs": [
    {
     "data": {
      "text/plain": [
       "True"
      ]
     },
     "execution_count": 35,
     "metadata": {},
     "output_type": "execute_result"
    }
   ],
   "source": [
    "def containsDuplicate2Naive(nums: list, k: int) -> bool:\n",
    "    if k >= len(nums):\n",
    "        return containsDuplicate(nums)\n",
    "    for i in range(len(nums)-k):\n",
    "        if containsDuplicate(nums[i:i+k+1]):\n",
    "            return True\n",
    "    return False\n",
    "\n",
    "nums = [1,1]\n",
    "k = 2\n",
    "containsDuplicate2Naive(nums, k)"
   ]
  },
  {
   "cell_type": "markdown",
   "metadata": {},
   "source": [
    "### Valid Anagram"
   ]
  },
  {
   "cell_type": "code",
   "execution_count": 61,
   "metadata": {},
   "outputs": [
    {
     "name": "stdout",
     "output_type": "stream",
     "text": [
      "174 ns ± 2.77 ns per loop (mean ± std. dev. of 7 runs, 1,000,000 loops each)\n",
      "163 ns ± 0.821 ns per loop (mean ± std. dev. of 7 runs, 10,000,000 loops each)\n"
     ]
    }
   ],
   "source": [
    "\n",
    "def isAnagram1(s:str, t:str) -> bool:\n",
    "    if len(s) != len(t):\n",
    "        return False\n",
    "\n",
    "    countS, countT = {}, {}\n",
    "    for i, (symS, symT) in enumerate(zip(s,t)):\n",
    "        countS[symS] = countS.get(symS, 0) + 1\n",
    "        countT[symT] = countT.get(symT, 0) + 1\n",
    "    \n",
    "    for sym in countS:\n",
    "        if countS[sym] != countT.get(sym, 0):\n",
    "            return False\n",
    "    return True\n",
    "\n",
    "def isAnagram2(s:str, t:str) -> bool:\n",
    "    if len(s) != len(t):\n",
    "        return False\n",
    "    return Counter(s) == Counter(t)\n",
    "\n",
    "\n",
    "s = \"rata\"\n",
    "t = \"tar\"\n",
    "\n",
    "%timeit isAnagram1(s,t)\n",
    "%timeit isAnagram2(s,t)"
   ]
  },
  {
   "cell_type": "markdown",
   "metadata": {},
   "source": [
    "### Two Sum"
   ]
  },
  {
   "cell_type": "code",
   "execution_count": 65,
   "metadata": {},
   "outputs": [
    {
     "data": {
      "text/plain": [
       "[1, 0]"
      ]
     },
     "execution_count": 65,
     "metadata": {},
     "output_type": "execute_result"
    }
   ],
   "source": [
    "def twoSum(nums: list, target: int) -> list:\n",
    "    hashmap = {}\n",
    "\n",
    "    for i, num in enumerate(nums):\n",
    "        if (compliment := target - num) in hashmap:\n",
    "            return [i, hashmap[compliment]]\n",
    "        hashmap[num] = i\n",
    "\n",
    "nums = [2,7,11,15]\n",
    "target = 9\n",
    "\n",
    "twoSum(nums, target)"
   ]
  },
  {
   "cell_type": "markdown",
   "metadata": {},
   "source": [
    "## <span style=\"color:yellow\">Medium</span>"
   ]
  },
  {
   "cell_type": "markdown",
   "metadata": {},
   "source": [
    "## 49. Group Anagrams\n",
    "\n",
    "Given an array of strings strs, group the anagrams together. You can return the answer in any order.\n",
    "\n",
    "Example 1:\n",
    "    Input: strs = [\"eat\",\"tea\",\"tan\",\"ate\",\"nat\",\"bat\"]\n",
    "    Output: [[\"bat\"],[\"nat\",\"tan\"],[\"ate\",\"eat\",\"tea\"]]"
   ]
  },
  {
   "cell_type": "code",
   "execution_count": 6,
   "metadata": {},
   "outputs": [],
   "source": [
    "\n",
    "def groupAnagrams(strs: List[str]) -> List[List[str]]:\n",
    "    hashmap = defaultdict(list)\n",
    "    for s in strs:\n",
    "        # keys can be strings, bcz they are immutable.\n",
    "        hashmap[str(sorted(s))].append(s) \n",
    "    return hashmap.values()"
   ]
  },
  {
   "cell_type": "code",
   "execution_count": 7,
   "metadata": {},
   "outputs": [
    {
     "data": {
      "text/plain": [
       "dict_values([['a']])"
      ]
     },
     "execution_count": 7,
     "metadata": {},
     "output_type": "execute_result"
    }
   ],
   "source": [
    "strs = [\"eat\",\"tea\",\"tan\",\"ate\",\"nat\",\"bat\"]\n",
    "strs = [\"\"]\n",
    "strs = [\"a\"]\n",
    "groupAnagrams(strs)"
   ]
  },
  {
   "cell_type": "markdown",
   "metadata": {},
   "source": [
    "### 2273. Find Resultant Array After Removing Anagrams\n",
    "\n",
    "Input: words = [\"abba\",\"baba\",\"bbaa\",\"cd\",\"cd\"]\n",
    "Output: [\"abba\",\"cd\"]"
   ]
  },
  {
   "cell_type": "code",
   "execution_count": 10,
   "metadata": {},
   "outputs": [
    {
     "data": {
      "text/plain": [
       "{'aabb', 'cd'}"
      ]
     },
     "execution_count": 10,
     "metadata": {},
     "output_type": "execute_result"
    }
   ],
   "source": [
    "def removeAnagrams(words:List[str]):\n",
    "    unique_anagrams = {''.join(sorted(word)) for word in words}\n",
    "\n",
    "    return unique_anagrams\n",
    "\n",
    "words = [\"abba\",\"baba\",\"bbaa\",\"cd\",\"cd\"]\n",
    "removeAnagrams(words)"
   ]
  },
  {
   "cell_type": "markdown",
   "metadata": {},
   "source": [
    "### 347. Top K Frequent Elements"
   ]
  },
  {
   "cell_type": "code",
   "execution_count": 32,
   "metadata": {},
   "outputs": [
    {
     "name": "stdout",
     "output_type": "stream",
     "text": [
      "OrderedDict([(2, [0]), (1, [3, 1])])\n"
     ]
    },
    {
     "data": {
      "text/plain": [
       "[0]"
      ]
     },
     "execution_count": 32,
     "metadata": {},
     "output_type": "execute_result"
    }
   ],
   "source": [
    "from typing import OrderedDict\n",
    "\n",
    "\n",
    "def topKFrequent(nums: List[int], k: int) -> List[int]:\n",
    "    return [x[0] for x in Counter(nums).most_common(k)]\n",
    "\n",
    "def topKFrequentAlt(nums: List[int], k: int) -> List[int]:\n",
    "    counts = {}\n",
    "    for n in nums:\n",
    "        counts[n] = counts.get(n, 0) + 1\n",
    "    #counts = {v: k for k, v in counts.items()}\n",
    "    freqs = defaultdict(list)\n",
    "    for num, count in counts.items():\n",
    "        freqs[count].append(num)\n",
    "\n",
    "    res = []\n",
    "    freqs = OrderedDict(sorted(freqs.items(), reverse=True))\n",
    "    print(freqs)\n",
    "    for freq in freqs:\n",
    "        if k <= 0:\n",
    "            return res\n",
    "        \n",
    "        nums_with_this_freq = freqs[freq]\n",
    "        res.extend(nums_with_this_freq[:k])\n",
    "        k -= len(nums_with_this_freq)\n",
    "    return res\n",
    "\n",
    "nums = [3,0,1,0]#[1,1,1,2,2,3]\n",
    "k = 1\n",
    "topKFrequentAlt(nums, k)"
   ]
  },
  {
   "cell_type": "code",
   "execution_count": 25,
   "metadata": {},
   "outputs": [
    {
     "data": {
      "text/plain": [
       "[1, 2, 3]"
      ]
     },
     "execution_count": 25,
     "metadata": {},
     "output_type": "execute_result"
    }
   ],
   "source": [
    "a = [1,2,3]\n",
    "a[:54]"
   ]
  },
  {
   "cell_type": "code",
   "execution_count": null,
   "metadata": {},
   "outputs": [],
   "source": []
  }
 ],
 "metadata": {
  "kernelspec": {
   "display_name": "Python 3.8.8 ('base')",
   "language": "python",
   "name": "python3"
  },
  "language_info": {
   "codemirror_mode": {
    "name": "ipython",
    "version": 3
   },
   "file_extension": ".py",
   "mimetype": "text/x-python",
   "name": "python",
   "nbconvert_exporter": "python",
   "pygments_lexer": "ipython3",
   "version": "3.8.8"
  },
  "orig_nbformat": 4,
  "vscode": {
   "interpreter": {
    "hash": "de4552d2adf5fffb15137fbd10619e3ca728a7b0d5298f8ca4e80460cb991e07"
   }
  }
 },
 "nbformat": 4,
 "nbformat_minor": 2
}
