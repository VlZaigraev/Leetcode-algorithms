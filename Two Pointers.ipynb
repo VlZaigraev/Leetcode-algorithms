{
 "cells": [
  {
   "cell_type": "code",
   "execution_count": 2,
   "metadata": {},
   "outputs": [],
   "source": [
    "from typing import List"
   ]
  },
  {
   "cell_type": "markdown",
   "metadata": {},
   "source": [
    "##  <span style=\"color:green\">Easy</span>"
   ]
  },
  {
   "cell_type": "markdown",
   "metadata": {},
   "source": [
    "### Valid Palindrome\t"
   ]
  },
  {
   "cell_type": "code",
   "execution_count": 28,
   "metadata": {},
   "outputs": [
    {
     "name": "stdout",
     "output_type": "stream",
     "text": [
      "2.93 µs ± 22.7 ns per loop (mean ± std. dev. of 7 runs, 100,000 loops each)\n",
      "5.97 µs ± 114 ns per loop (mean ± std. dev. of 7 runs, 100,000 loops each)\n"
     ]
    }
   ],
   "source": [
    "def isPalindrome(s: str):\n",
    "    s = ''.join(filter(str.isalnum, s.lower()))\n",
    "    #print(s)\n",
    "    for i in range(len(s) // 2):\n",
    "        if s[i] != s[-(i+1)]:\n",
    "            return False\n",
    "    return True\n",
    "\n",
    "def isPalindrome2Pointers(s: str):\n",
    "    l, r = 0, len(s) - 1\n",
    "\n",
    "    while l < r:\n",
    "        while l < r and not s[l].isalnum(): l += 1\n",
    "        while l < r and not s[r].isalnum(): r -= 1\n",
    "        if s[l].lower() != s[r].lower():\n",
    "            return False\n",
    "        \n",
    "        l, r = l + 1, r - 1\n",
    "    \n",
    "    return True\n",
    "\n",
    "\n",
    "s = 'A man, a plan, a canal: Panama'\n",
    "\n",
    "%timeit isPalindrome(s)\n",
    "%timeit isPalindrome2Pointers(s)"
   ]
  },
  {
   "cell_type": "markdown",
   "metadata": {},
   "source": [
    "## <span style=\"color:yellow\">Medium</span>"
   ]
  },
  {
   "cell_type": "markdown",
   "metadata": {},
   "source": [
    "### Two Sum II\t"
   ]
  },
  {
   "cell_type": "code",
   "execution_count": 45,
   "metadata": {},
   "outputs": [
    {
     "data": {
      "text/plain": [
       "[1, 2]"
      ]
     },
     "execution_count": 45,
     "metadata": {},
     "output_type": "execute_result"
    }
   ],
   "source": [
    "def twoSum(numbers: List[int], target: int) -> List[int]:\n",
    "    l, r = 0, len(numbers) - 1\n",
    "\n",
    "    while l < r:\n",
    "        target_sum = numbers[l] + numbers[r]\n",
    "        if target_sum  < target:\n",
    "            l += 1\n",
    "        elif target_sum > target:\n",
    "            r -= 1\n",
    "        else:\n",
    "            return [l + 1, r + 1]\n",
    "\n",
    "numbers = [2,7,11,15]\n",
    "target = 9\n",
    "\n",
    "twoSum(numbers, target)"
   ]
  },
  {
   "cell_type": "markdown",
   "metadata": {},
   "source": [
    "### 3Sum"
   ]
  },
  {
   "cell_type": "code",
   "execution_count": 3,
   "metadata": {},
   "outputs": [],
   "source": [
    "def threeSum(nums: List[int]) -> List[List[int]]:\n",
    "    nums.sort() #nums = sorted(nums)\n",
    "    n = len(nums)\n",
    "    result = []\n",
    "    for i in range(n - 2):\n",
    "        if nums[i] > 0:\n",
    "            break\n",
    "        if i > 0 and nums[i] == nums[i - 1]:\n",
    "            continue\n",
    "        l, r = i + 1, n - 1\n",
    "        while l < r:\n",
    "            two_sum = nums[l] + nums[r]\n",
    "            if two_sum < -nums[i]:\n",
    "                l += 1\n",
    "            elif two_sum > -nums[i]:\n",
    "                r -= 1\n",
    "            else:\n",
    "                result.append([nums[i], nums[l], nums[r]])\n",
    "                l += 1\n",
    "                while nums[l] == nums[l - 1] and l < r:\n",
    "                    l += 1"
   ]
  },
  {
   "cell_type": "markdown",
   "metadata": {},
   "source": [
    "### Container with Most Water"
   ]
  },
  {
   "cell_type": "code",
   "execution_count": 25,
   "metadata": {},
   "outputs": [
    {
     "data": {
      "text/plain": [
       "1"
      ]
     },
     "execution_count": 25,
     "metadata": {},
     "output_type": "execute_result"
    }
   ],
   "source": [
    "def maxArea(height: List[int]) -> int:\n",
    "    max_area = 0\n",
    "    l, r = 0, len(height) - 1\n",
    "\n",
    "    while l < r:\n",
    "        max_area = max(max_area, min(height[l], height[r]) * (r - l))\n",
    "        if height[l] < height[r]:\n",
    "            l += 1\n",
    "        else:\n",
    "            r -= 1\n",
    "    return max_area\n",
    "\n",
    "height = [1,1]\n",
    "maxArea(height)        "
   ]
  },
  {
   "cell_type": "markdown",
   "metadata": {},
   "source": [
    "## <span style=\"color:red\">Hard</span>"
   ]
  },
  {
   "cell_type": "markdown",
   "metadata": {},
   "source": [
    "### Trapping Rain Water"
   ]
  },
  {
   "cell_type": "code",
   "execution_count": 56,
   "metadata": {},
   "outputs": [],
   "source": [
    "def trap_linear_memory(height: List[int]) -> int:\n",
    "    def cum_max(arr):\n",
    "        max_value = arr[0]\n",
    "        result = [0]\n",
    "        for el in arr:\n",
    "            max_value = max(max_value, el)\n",
    "            result.append(max_value)\n",
    "\n",
    "        return result[:-1]\n",
    "\n",
    "    left_maxs, right_maxs = cum_max(height), cum_max(list(reversed(height)))\n",
    "    right_maxs.reverse()\n",
    "    \n",
    "    return sum(max(0, min(left_maxs[i], right_maxs[i]) - h) for i, h in enumerate(height))\n"
   ]
  },
  {
   "cell_type": "code",
   "execution_count": 57,
   "metadata": {},
   "outputs": [],
   "source": [
    "def trap(height: List[int]) -> int:\n",
    "\n",
    "    if not height:\n",
    "        return 0\n",
    "\n",
    "    l, r = 0, len(height) - 1\n",
    "    left_max, right_max = height[l], height[r]\n",
    "    total_water = 0\n",
    "\n",
    "    while l < r:\n",
    "        if left_max < right_max:\n",
    "            l += 1\n",
    "            left_max = max(left_max, height[l])\n",
    "            total_water += left_max - height[l]\n",
    "        else:\n",
    "            r -= 1\n",
    "            right_max = max(right_max, height[r])\n",
    "            total_water += right_max - height[r]\n",
    "\n",
    "    return total_water\n",
    "\n",
    "\n"
   ]
  },
  {
   "cell_type": "code",
   "execution_count": 60,
   "metadata": {},
   "outputs": [
    {
     "name": "stdout",
     "output_type": "stream",
     "text": [
      "10.7 µs ± 285 ns per loop (mean ± std. dev. of 7 runs, 100,000 loops each)\n",
      "3.4 µs ± 91.5 ns per loop (mean ± std. dev. of 7 runs, 100,000 loops each)\n"
     ]
    }
   ],
   "source": [
    "height = [0,1,0,2,1,0,1,3,2,1,2,1]\n",
    "\n",
    "\n",
    "%timeit trap_linear_memory(height)\n",
    "%timeit trap(height)"
   ]
  },
  {
   "cell_type": "code",
   "execution_count": null,
   "metadata": {},
   "outputs": [],
   "source": []
  }
 ],
 "metadata": {
  "kernelspec": {
   "display_name": "Python 3.10.5 64-bit",
   "language": "python",
   "name": "python3"
  },
  "language_info": {
   "codemirror_mode": {
    "name": "ipython",
    "version": 3
   },
   "file_extension": ".py",
   "mimetype": "text/x-python",
   "name": "python",
   "nbconvert_exporter": "python",
   "pygments_lexer": "ipython3",
   "version": "3.10.5"
  },
  "orig_nbformat": 4,
  "vscode": {
   "interpreter": {
    "hash": "e7370f93d1d0cde622a1f8e1c04877d8463912d04d973331ad4851f04de6915a"
   }
  }
 },
 "nbformat": 4,
 "nbformat_minor": 2
}
